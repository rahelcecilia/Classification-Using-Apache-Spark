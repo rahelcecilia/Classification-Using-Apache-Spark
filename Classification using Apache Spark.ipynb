{
 "cells": [
  {
   "cell_type": "code",
   "execution_count": 192,
   "metadata": {
    "application/vnd.databricks.v1+cell": {
     "cellMetadata": {
      "byteLimit": 2048000,
      "rowLimit": 10000
     },
     "inputWidgets": {},
     "nuid": "3f08966e-fc6c-4f74-b188-3efb39418f55",
     "showTitle": false,
     "title": ""
    }
   },
   "outputs": [],
   "source": [
    "import pyspark\n",
    "from pyspark.sql import SparkSession\n",
    "import matplotlib.pyplot as plt\n",
    "from pyspark.sql.functions import col, sum\n",
    "from pyspark.ml.feature import StringIndexer\n",
    "from pyspark.ml.feature import VectorAssembler\n",
    "from pyspark.ml.evaluation import BinaryClassificationEvaluator\n",
    "from pyspark.ml.evaluation import MulticlassClassificationEvaluator\n",
    "\n",
    "from pyspark.ml.classification import DecisionTreeClassifier\n",
    "from pyspark.ml.classification import RandomForestClassifier"
   ]
  },
  {
   "cell_type": "markdown",
   "metadata": {
    "application/vnd.databricks.v1+cell": {
     "cellMetadata": {
      "byteLimit": 2048000,
      "rowLimit": 10000
     },
     "inputWidgets": {},
     "nuid": "75639379-a4f4-4b20-8b3d-7de68cd0f227",
     "showTitle": false,
     "title": ""
    }
   },
   "source": [
    "##### Business and Data Understanding\n",
    "\n",
    "The Diabetes prediction dataset is a collection of medical and demographic data from patients, along with their diabetes status (positive or negative). The data includes features such as age, gender, body mass index (BMI), hypertension, heart disease, smoking history, HbA1c level, and blood glucose level. This dataset can be used to build machine learning models to predict diabetes in patients based on their medical history and demographic information. This can be useful for healthcare professionals in identifying patients who may be at risk of developing diabetes and in developing personalized treatment plans. Additionally, the dataset can be used by researchers to explore the relationships between various medical and demographic factors and the likelihood of developing diabetes.\n",
    "\n",
    "Explanation about the features :\n",
    "- Gender - Gender refers to the biological sex of the individual, which can have an impact on their susceptibility to diabetes. There are three categories in it male ,female and other.\n",
    "- Age - Age is an important factor as diabetes is more commonly diagnosed in older adults.Age ranges from 0-80 in our dataset. \n",
    "- Hypertension - Hypertension is a medical condition in which the blood pressure in the arteries is persistently elevated. It has values a 0 or 1 where 0 indicates they don’t have hypertension and for 1 it means they have hypertension.\n",
    "- Heart_Disease - Heart disease is another medical condition that is associated with an increased risk of developing diabetes. It has values a 0 or 1 where 0 indicates they don’t have heart disease and for 1 it means they have heart disease.\n",
    "- Smoking_History - Smoking history is also considered a risk factor for diabetes and can exacerbate the complications associated with diabetes.In our dataset we have 5 categories i.e not current,former,No Info,current,never and ever.\n",
    "- BMI - BMI (Body Mass Index) is a measure of body fat based on weight and height. Higher BMI values are linked to a higher risk of diabetes. The range of BMI in the dataset is from 10.16 to 71.55. BMI less than 18.5 is underweight, 18.5-24.9 is normal, 25-29.9 is overweight, and 30 or more is obese.\n",
    "- HbA1c_level - HbA1c (Hemoglobin A1c) level is a measure of a person's average blood sugar level over the past 2-3 months. Higher levels indicate a greater risk of developing diabetes. Mostly more than 6.5% of HbA1c Level indicates diabetes.\n",
    "- Blood_Glucose_Level - Blood glucose level refers to the amount of glucose in the bloodstream at a given time. High blood glucose levels are a key indicator of diabetes. \n",
    "- Diabetes - Diabetes is the target variable being predicted, with values of 1 indicating the presence of diabetes and 0 indicating the absence of diabetes.\n",
    "###### Explanation about the dataset :\n",
    "- Target coloumns is diabetes"
   ]
  },
  {
   "cell_type": "markdown",
   "metadata": {},
   "source": [
    "# Spark Session"
   ]
  },
  {
   "cell_type": "code",
   "execution_count": 193,
   "metadata": {},
   "outputs": [],
   "source": [
    "spark = SparkSession.builder.getOrCreate()"
   ]
  },
  {
   "cell_type": "markdown",
   "metadata": {},
   "source": [
    "## Data Engineering"
   ]
  },
  {
   "cell_type": "code",
   "execution_count": 194,
   "metadata": {
    "application/vnd.databricks.v1+cell": {
     "cellMetadata": {
      "byteLimit": 2048000,
      "rowLimit": 10000
     },
     "inputWidgets": {},
     "nuid": "67fb4b8c-0a0e-41d2-93c3-f0567e8c8dae",
     "showTitle": false,
     "title": ""
    }
   },
   "outputs": [
    {
     "name": "stdout",
     "output_type": "stream",
     "text": [
      "+------+----+------------+-------------+---------------+-----+-----------+-------------------+--------+\n",
      "|gender| age|hypertension|heart_disease|smoking_history|  bmi|HbA1c_level|blood_glucose_level|diabetes|\n",
      "+------+----+------------+-------------+---------------+-----+-----------+-------------------+--------+\n",
      "|Female|80.0|           0|            1|          never|25.19|        6.6|                140|       0|\n",
      "|Female|54.0|           0|            0|        No Info|27.32|        6.6|                 80|       0|\n",
      "|  Male|28.0|           0|            0|          never|27.32|        5.7|                158|       0|\n",
      "|Female|36.0|           0|            0|        current|23.45|        5.0|                155|       0|\n",
      "|  Male|76.0|           1|            1|        current|20.14|        4.8|                155|       0|\n",
      "|Female|20.0|           0|            0|          never|27.32|        6.6|                 85|       0|\n",
      "|Female|44.0|           0|            0|          never|19.31|        6.5|                200|       1|\n",
      "|Female|79.0|           0|            0|        No Info|23.86|        5.7|                 85|       0|\n",
      "|  Male|42.0|           0|            0|          never|33.64|        4.8|                145|       0|\n",
      "|Female|32.0|           0|            0|          never|27.32|        5.0|                100|       0|\n",
      "|Female|53.0|           0|            0|          never|27.32|        6.1|                 85|       0|\n",
      "|Female|54.0|           0|            0|         former| 54.7|        6.0|                100|       0|\n",
      "|Female|78.0|           0|            0|         former|36.05|        5.0|                130|       0|\n",
      "|Female|67.0|           0|            0|          never|25.69|        5.8|                200|       0|\n",
      "|Female|76.0|           0|            0|        No Info|27.32|        5.0|                160|       0|\n",
      "|  Male|78.0|           0|            0|        No Info|27.32|        6.6|                126|       0|\n",
      "|  Male|15.0|           0|            0|          never|30.36|        6.1|                200|       0|\n",
      "|Female|42.0|           0|            0|          never|24.48|        5.7|                158|       0|\n",
      "|Female|42.0|           0|            0|        No Info|27.32|        5.7|                 80|       0|\n",
      "|  Male|37.0|           0|            0|           ever|25.72|        3.5|                159|       0|\n",
      "+------+----+------------+-------------+---------------+-----+-----------+-------------------+--------+\n",
      "only showing top 20 rows\n",
      "\n"
     ]
    }
   ],
   "source": [
    "#Load the data\n",
    "dataset = spark.read.csv(\"diabetes_prediction_dataset.csv\", header=True, inferSchema=True)\n",
    "dataset.show()"
   ]
  },
  {
   "cell_type": "code",
   "execution_count": 195,
   "metadata": {
    "application/vnd.databricks.v1+cell": {
     "cellMetadata": {
      "byteLimit": 2048000,
      "rowLimit": 10000
     },
     "inputWidgets": {},
     "nuid": "52e8bf6f-ff2c-41dc-b69f-e132e282430e",
     "showTitle": false,
     "title": ""
    }
   },
   "outputs": [
    {
     "name": "stdout",
     "output_type": "stream",
     "text": [
      "root\n",
      " |-- gender: string (nullable = true)\n",
      " |-- age: double (nullable = true)\n",
      " |-- hypertension: integer (nullable = true)\n",
      " |-- heart_disease: integer (nullable = true)\n",
      " |-- smoking_history: string (nullable = true)\n",
      " |-- bmi: double (nullable = true)\n",
      " |-- HbA1c_level: double (nullable = true)\n",
      " |-- blood_glucose_level: integer (nullable = true)\n",
      " |-- diabetes: integer (nullable = true)\n",
      "\n"
     ]
    }
   ],
   "source": [
    "dataset.printSchema()"
   ]
  },
  {
   "cell_type": "markdown",
   "metadata": {},
   "source": [
    "## Data Cleansing"
   ]
  },
  {
   "cell_type": "code",
   "execution_count": 196,
   "metadata": {},
   "outputs": [
    {
     "name": "stdout",
     "output_type": "stream",
     "text": [
      "+------+---+------------+-------------+---------------+---+-----------+-------------------+--------+\n",
      "|gender|age|hypertension|heart_disease|smoking_history|bmi|HbA1c_level|blood_glucose_level|diabetes|\n",
      "+------+---+------------+-------------+---------------+---+-----------+-------------------+--------+\n",
      "|     0|  0|           0|            0|              0|  0|          0|                  0|       0|\n",
      "+------+---+------------+-------------+---------------+---+-----------+-------------------+--------+\n",
      "\n"
     ]
    }
   ],
   "source": [
    "# Missing Values\n",
    "\n",
    "missing_count = dataset.select([sum(col(c).isNull().cast(\"int\")).alias(c) for c in dataset.columns])\n",
    "missing_count.show()"
   ]
  },
  {
   "cell_type": "code",
   "execution_count": 197,
   "metadata": {},
   "outputs": [
    {
     "name": "stdout",
     "output_type": "stream",
     "text": [
      "+------+----+------------+-------------+---------------+-----+-----------+-------------------+--------+-----+\n",
      "|gender| age|hypertension|heart_disease|smoking_history|  bmi|HbA1c_level|blood_glucose_level|diabetes|count|\n",
      "+------+----+------------+-------------+---------------+-----+-----------+-------------------+--------+-----+\n",
      "|Female|80.0|           0|            0|        No Info|27.32|        6.0|                140|       0|    4|\n",
      "|Female|48.0|           0|            0|        No Info|27.32|        3.5|                130|       0|    2|\n",
      "|  Male|80.0|           0|            0|        No Info|27.32|        6.1|                155|       0|    3|\n",
      "|Female|70.0|           0|            0|        No Info|27.32|        4.5|                145|       0|    2|\n",
      "|Female|57.0|           0|            0|         former|27.32|        6.6|                159|       0|    2|\n",
      "|Female|80.0|           0|            0|        No Info|27.32|        5.8|                140|       0|    4|\n",
      "|Female|49.0|           0|            0|        No Info|27.32|        3.5|                145|       0|    2|\n",
      "|  Male|48.0|           0|            0|        No Info|27.32|        4.0|                200|       0|    2|\n",
      "|Female|64.0|           0|            0|        No Info|27.32|        6.5|                200|       0|    2|\n",
      "|  Male|18.0|           0|            0|        current|27.32|        5.7|                160|       0|    2|\n",
      "|  Male|58.0|           0|            0|        No Info|27.32|        6.1|                130|       0|    2|\n",
      "|Female|28.0|           0|            0|        No Info|27.32|        5.0|                155|       0|    2|\n",
      "|  Male|13.0|           0|            0|        No Info|27.32|        6.0|                140|       0|    2|\n",
      "|Female|45.0|           0|            0|        No Info|27.32|        6.2|                140|       0|    2|\n",
      "|  Male|29.0|           0|            0|          never|27.32|        5.7|                160|       0|    2|\n",
      "|  Male|26.0|           0|            0|        No Info|27.32|        6.2|                159|       0|    2|\n",
      "|Female|67.0|           0|            0|          never|27.32|        5.0|                158|       0|    2|\n",
      "|  Male|34.0|           0|            0|        No Info|27.32|        4.5|                155|       0|    2|\n",
      "|Female|25.0|           0|            0|        current|27.32|        6.2|                158|       0|    2|\n",
      "|Female|13.0|           0|            0|        No Info|27.32|        3.5|                130|       0|    2|\n",
      "+------+----+------------+-------------+---------------+-----+-----------+-------------------+--------+-----+\n",
      "only showing top 20 rows\n",
      "\n"
     ]
    }
   ],
   "source": [
    "# Duplicat Values\n",
    "dups = dataset.groupBy(dataset.columns).count().filter(\"count > 1\")\n",
    "dups.show()"
   ]
  },
  {
   "cell_type": "code",
   "execution_count": 198,
   "metadata": {},
   "outputs": [
    {
     "name": "stdout",
     "output_type": "stream",
     "text": [
      "+------+----+------------+-------------+---------------+-----+-----------+-------------------+--------+\n",
      "|gender| age|hypertension|heart_disease|smoking_history|  bmi|HbA1c_level|blood_glucose_level|diabetes|\n",
      "+------+----+------------+-------------+---------------+-----+-----------+-------------------+--------+\n",
      "|Female|21.0|           0|            0|          never|27.32|        5.8|                126|       0|\n",
      "|  Male|26.0|           0|            0|          never|27.32|        6.6|                100|       0|\n",
      "|Female|49.0|           0|            0|          never| 21.7|        5.8|                158|       0|\n",
      "|Female|24.0|           0|            0|         former|20.47|        4.8|                100|       0|\n",
      "|Female|53.0|           0|            0|          never| 31.4|        5.7|                 85|       0|\n",
      "|Female|74.0|           0|            0|         former| 40.5|        3.5|                160|       0|\n",
      "|  Male|76.0|           0|            0|         former|27.76|        6.5|                158|       0|\n",
      "|  Male| 5.0|           0|            0|        No Info| 17.9|        6.6|                126|       0|\n",
      "|Female|55.0|           0|            0|          never|42.64|        6.0|                155|       1|\n",
      "|  Male|68.0|           1|            0|          never|42.15|        6.2|                145|       1|\n",
      "|Female|26.0|           0|            0|          never|39.93|        4.0|                160|       0|\n",
      "|Female|62.0|           0|            0|          never|25.71|        5.0|                145|       0|\n",
      "|  Male|0.48|           0|            0|        No Info|15.19|        4.8|                140|       0|\n",
      "|Female|17.0|           0|            0|    not current|18.71|        5.0|                200|       0|\n",
      "|  Male|15.0|           0|            0|        No Info| 23.2|        3.5|                155|       0|\n",
      "|Female|51.0|           0|            0|         former|27.32|        3.5|                160|       0|\n",
      "|Female|73.0|           1|            0|          never| 22.8|        9.0|                126|       1|\n",
      "|  Male|49.0|           0|            0|          never| 32.5|        5.8|                145|       0|\n",
      "|Female|60.0|           0|            0|          never|45.98|        6.5|                159|       1|\n",
      "|Female| 4.0|           0|            0|        No Info|15.88|        4.5|                140|       0|\n",
      "+------+----+------------+-------------+---------------+-----+-----------+-------------------+--------+\n",
      "only showing top 20 rows\n",
      "\n"
     ]
    }
   ],
   "source": [
    "dataset_new = dataset.dropDuplicates()\n",
    "dataset_new.show()"
   ]
  },
  {
   "cell_type": "code",
   "execution_count": 199,
   "metadata": {},
   "outputs": [
    {
     "name": "stdout",
     "output_type": "stream",
     "text": [
      "root\n",
      " |-- gender: string (nullable = true)\n",
      " |-- age: double (nullable = true)\n",
      " |-- hypertension: integer (nullable = true)\n",
      " |-- heart_disease: integer (nullable = true)\n",
      " |-- smoking_history: string (nullable = true)\n",
      " |-- bmi: double (nullable = true)\n",
      " |-- HbA1c_level: double (nullable = true)\n",
      " |-- blood_glucose_level: integer (nullable = true)\n",
      " |-- diabetes: integer (nullable = true)\n",
      "\n"
     ]
    }
   ],
   "source": [
    "dataset_new.printSchema()"
   ]
  },
  {
   "cell_type": "code",
   "execution_count": 200,
   "metadata": {
    "application/vnd.databricks.v1+cell": {
     "cellMetadata": {
      "byteLimit": 2048000,
      "rowLimit": 10000
     },
     "inputWidgets": {},
     "nuid": "4c29d4ff-4889-4e17-a8ce-e5275c81af8e",
     "showTitle": false,
     "title": ""
    }
   },
   "outputs": [],
   "source": [
    "#Converting categorical into numerical values\n",
    "\n",
    "categorical_columns = [\"gender\", \"age\",  \"smoking_history\", \"bmi\",\"HbA1c_level\"]\n",
    "\n",
    "# Perform indexation for each column separately\n",
    "for col in categorical_columns:\n",
    "     indexer = StringIndexer(inputCol=col, outputCol=col + \"_index\")\n",
    "    \n",
    "     # Perform indexation on the DataFrame using the appropriate StringIndexer\n",
    "     dataset_new= indexer.fit(dataset_new).transform(dataset_new)"
   ]
  },
  {
   "cell_type": "code",
   "execution_count": 201,
   "metadata": {},
   "outputs": [
    {
     "name": "stdout",
     "output_type": "stream",
     "text": [
      "+------+----+------------+-------------+---------------+-----+-----------+-------------------+--------+------------+---------+---------------------+---------+-----------------+\n",
      "|gender| age|hypertension|heart_disease|smoking_history|  bmi|HbA1c_level|blood_glucose_level|diabetes|gender_index|age_index|smoking_history_index|bmi_index|HbA1c_level_index|\n",
      "+------+----+------------+-------------+---------------+-----+-----------+-------------------+--------+------------+---------+---------------------+---------+-----------------+\n",
      "|Female|21.0|           0|            0|          never|27.32|        5.8|                126|       0|         0.0|     40.0|                  0.0|      0.0|              3.0|\n",
      "|  Male|26.0|           0|            0|          never|27.32|        6.6|                100|       0|         1.0|     35.0|                  0.0|      0.0|              0.0|\n",
      "|Female|49.0|           0|            0|          never| 21.7|        5.8|                158|       0|         0.0|      6.0|                  0.0|     45.0|              3.0|\n",
      "|Female|24.0|           0|            0|         former|20.47|        4.8|                100|       0|         0.0|     43.0|                  2.0|   1790.0|              8.0|\n",
      "|Female|53.0|           0|            0|          never| 31.4|        5.7|                 85|       0|         0.0|      4.0|                  0.0|    480.0|              1.0|\n",
      "+------+----+------------+-------------+---------------+-----+-----------+-------------------+--------+------------+---------+---------------------+---------+-----------------+\n",
      "only showing top 5 rows\n",
      "\n"
     ]
    }
   ],
   "source": [
    "dataset_new.show(5)"
   ]
  },
  {
   "cell_type": "code",
   "execution_count": 202,
   "metadata": {
    "application/vnd.databricks.v1+cell": {
     "cellMetadata": {
      "byteLimit": 2048000,
      "rowLimit": 10000
     },
     "inputWidgets": {},
     "nuid": "6a503dcd-e079-444e-a504-7f578cd670f9",
     "showTitle": false,
     "title": ""
    }
   },
   "outputs": [
    {
     "name": "stdout",
     "output_type": "stream",
     "text": [
      "root\n",
      " |-- gender: string (nullable = true)\n",
      " |-- age: double (nullable = true)\n",
      " |-- hypertension: integer (nullable = true)\n",
      " |-- heart_disease: integer (nullable = true)\n",
      " |-- smoking_history: string (nullable = true)\n",
      " |-- bmi: double (nullable = true)\n",
      " |-- HbA1c_level: double (nullable = true)\n",
      " |-- blood_glucose_level: integer (nullable = true)\n",
      " |-- diabetes: integer (nullable = true)\n",
      " |-- gender_index: double (nullable = false)\n",
      " |-- age_index: double (nullable = false)\n",
      " |-- smoking_history_index: double (nullable = false)\n",
      " |-- bmi_index: double (nullable = false)\n",
      " |-- HbA1c_level_index: double (nullable = false)\n",
      "\n"
     ]
    }
   ],
   "source": [
    "dataset_new.printSchema()"
   ]
  },
  {
   "cell_type": "code",
   "execution_count": 203,
   "metadata": {
    "application/vnd.databricks.v1+cell": {
     "cellMetadata": {
      "byteLimit": 2048000,
      "rowLimit": 10000
     },
     "inputWidgets": {},
     "nuid": "9df368f6-2f5f-402c-8d1c-d03eb53f97ae",
     "showTitle": false,
     "title": ""
    }
   },
   "outputs": [],
   "source": [
    "#We didn't need the old data set, so I decided to delete the column and I used a column name ending in _index which means it has been converted to numerical values\n",
    "delete = [\"gender\", \"age\",  \"smoking_history\", \"bmi\",\"HbA1c_level\"]\n",
    "\n",
    "clean_dataset = dataset_new.drop(*delete)"
   ]
  },
  {
   "cell_type": "code",
   "execution_count": 204,
   "metadata": {
    "application/vnd.databricks.v1+cell": {
     "cellMetadata": {
      "byteLimit": 2048000,
      "rowLimit": 10000
     },
     "inputWidgets": {},
     "nuid": "d01e8f44-00ef-4219-b83b-3ea46f092690",
     "showTitle": false,
     "title": ""
    }
   },
   "outputs": [
    {
     "name": "stdout",
     "output_type": "stream",
     "text": [
      "+------------+-------------+-------------------+--------+------------+---------+---------------------+---------+-----------------+\n",
      "|hypertension|heart_disease|blood_glucose_level|diabetes|gender_index|age_index|smoking_history_index|bmi_index|HbA1c_level_index|\n",
      "+------------+-------------+-------------------+--------+------------+---------+---------------------+---------+-----------------+\n",
      "|           0|            0|                126|       0|         0.0|     40.0|                  0.0|      0.0|              3.0|\n",
      "|           0|            0|                100|       0|         1.0|     35.0|                  0.0|      0.0|              0.0|\n",
      "|           0|            0|                158|       0|         0.0|      6.0|                  0.0|     45.0|              3.0|\n",
      "|           0|            0|                100|       0|         0.0|     43.0|                  2.0|   1790.0|              8.0|\n",
      "|           0|            0|                 85|       0|         0.0|      4.0|                  0.0|    480.0|              1.0|\n",
      "+------------+-------------+-------------------+--------+------------+---------+---------------------+---------+-----------------+\n",
      "only showing top 5 rows\n",
      "\n"
     ]
    }
   ],
   "source": [
    "clean_dataset.show(5)"
   ]
  },
  {
   "cell_type": "markdown",
   "metadata": {},
   "source": [
    "## Splitting Dataset"
   ]
  },
  {
   "cell_type": "code",
   "execution_count": 205,
   "metadata": {
    "application/vnd.databricks.v1+cell": {
     "cellMetadata": {
      "byteLimit": 2048000,
      "rowLimit": 10000
     },
     "inputWidgets": {},
     "nuid": "3f8ca498-71a2-42a3-aced-9a4efc6af39e",
     "showTitle": false,
     "title": ""
    }
   },
   "outputs": [
    {
     "name": "stdout",
     "output_type": "stream",
     "text": [
      "+------------+-------------+-------------------+--------+------------+---------+---------------------+---------+-----------------+\n",
      "|hypertension|heart_disease|blood_glucose_level|diabetes|gender_index|age_index|smoking_history_index|bmi_index|HbA1c_level_index|\n",
      "+------------+-------------+-------------------+--------+------------+---------+---------------------+---------+-----------------+\n",
      "|           0|            0|                126|       0|         0.0|     40.0|                  0.0|      0.0|              3.0|\n",
      "|           0|            0|                100|       0|         1.0|     35.0|                  0.0|      0.0|              0.0|\n",
      "|           0|            0|                158|       0|         0.0|      6.0|                  0.0|     45.0|              3.0|\n",
      "|           0|            0|                100|       0|         0.0|     43.0|                  2.0|   1790.0|              8.0|\n",
      "|           0|            0|                 85|       0|         0.0|      4.0|                  0.0|    480.0|              1.0|\n",
      "+------------+-------------+-------------------+--------+------------+---------+---------------------+---------+-----------------+\n",
      "only showing top 5 rows\n",
      "\n"
     ]
    }
   ],
   "source": [
    "clean_dataset.show(5)"
   ]
  },
  {
   "cell_type": "code",
   "execution_count": 206,
   "metadata": {},
   "outputs": [],
   "source": [
    "#Feature and Label\n",
    "\n",
    "feature_columns = [col for col in clean_dataset.columns if col != 'diabetes']\n",
    "assembler = VectorAssembler(inputCols=feature_columns, outputCol='features')\n",
    "\n",
    "dataset_transformed = assembler.transform(clean_dataset).select('features', 'diabetes')\n"
   ]
  },
  {
   "cell_type": "code",
   "execution_count": 207,
   "metadata": {},
   "outputs": [
    {
     "name": "stdout",
     "output_type": "stream",
     "text": [
      "+--------------------+--------+\n",
      "|            features|diabetes|\n",
      "+--------------------+--------+\n",
      "|(8,[2,4,7],[126.0...|       0|\n",
      "|(8,[2,3,4],[100.0...|       0|\n",
      "|(8,[2,4,6,7],[158...|       0|\n",
      "|[0.0,0.0,100.0,0....|       0|\n",
      "|(8,[2,4,6,7],[85....|       0|\n",
      "+--------------------+--------+\n",
      "only showing top 5 rows\n",
      "\n"
     ]
    }
   ],
   "source": [
    "dataset_transformed.show(5)"
   ]
  },
  {
   "cell_type": "code",
   "execution_count": 208,
   "metadata": {
    "application/vnd.databricks.v1+cell": {
     "cellMetadata": {
      "byteLimit": 2048000,
      "rowLimit": 10000
     },
     "inputWidgets": {},
     "nuid": "94e5a47a-40f7-4e27-ad94-a614529ff41c",
     "showTitle": false,
     "title": ""
    }
   },
   "outputs": [
    {
     "data": {
      "text/plain": [
       "(77043, 19103)"
      ]
     },
     "execution_count": 208,
     "metadata": {},
     "output_type": "execute_result"
    }
   ],
   "source": [
    "#Splitting Dataset\n",
    "\n",
    "train_data, test_data = dataset_transformed.randomSplit([0.8, 0.2], seed=42)\n",
    "\n",
    "train_data.count(), test_data.count()"
   ]
  },
  {
   "cell_type": "markdown",
   "metadata": {},
   "source": [
    "## Decision Tree Model"
   ]
  },
  {
   "cell_type": "markdown",
   "metadata": {},
   "source": [
    "### ML Model Engineering"
   ]
  },
  {
   "cell_type": "code",
   "execution_count": 209,
   "metadata": {
    "application/vnd.databricks.v1+cell": {
     "cellMetadata": {
      "byteLimit": 2048000,
      "rowLimit": 10000
     },
     "inputWidgets": {},
     "nuid": "81544de9-7062-4fea-baac-2ddbafbefba5",
     "showTitle": false,
     "title": ""
    }
   },
   "outputs": [],
   "source": [
    "# Initialize model Decision Tree\n",
    "dt = DecisionTreeClassifier(featuresCol='features', labelCol='diabetes', maxBins=5000)\n",
    "\n",
    "# Train dt model\n",
    "model = dt.fit(train_data)"
   ]
  },
  {
   "cell_type": "code",
   "execution_count": 210,
   "metadata": {
    "application/vnd.databricks.v1+cell": {
     "cellMetadata": {
      "byteLimit": 2048000,
      "rowLimit": 10000
     },
     "inputWidgets": {},
     "nuid": "7ec642e5-e9b2-40e7-97e1-cb4c487034fb",
     "showTitle": false,
     "title": ""
    }
   },
   "outputs": [
    {
     "name": "stdout",
     "output_type": "stream",
     "text": [
      "+--------------------+--------+----------------+--------------------+----------+\n",
      "|            features|diabetes|   rawPrediction|         probability|prediction|\n",
      "+--------------------+--------+----------------+--------------------+----------+\n",
      "|(8,[0,1,2,7],[1.0...|       0|[26475.0,3420.0]|[0.88559959859508...|       0.0|\n",
      "|(8,[0,2,3,4],[1.0...|       0|[26475.0,3420.0]|[0.88559959859508...|       0.0|\n",
      "|(8,[0,2,3,4],[1.0...|       1|[26475.0,3420.0]|[0.88559959859508...|       0.0|\n",
      "|(8,[0,2,3,6],[1.0...|       1|[26475.0,3420.0]|[0.88559959859508...|       0.0|\n",
      "|(8,[0,2,4],[1.0,8...|       0| [15245.0,780.0]|[0.95132605304212...|       0.0|\n",
      "|(8,[0,2,4],[1.0,1...|       1|[26475.0,3420.0]|[0.88559959859508...|       0.0|\n",
      "|(8,[0,2,4,5],[1.0...|       0|[26475.0,3420.0]|[0.88559959859508...|       0.0|\n",
      "|(8,[0,2,4,5],[1.0...|       1|[26475.0,3420.0]|[0.88559959859508...|       0.0|\n",
      "|(8,[0,2,4,6],[1.0...|       0|[26475.0,3420.0]|[0.88559959859508...|       0.0|\n",
      "|(8,[0,2,4,6],[1.0...|       0|[26475.0,3420.0]|[0.88559959859508...|       0.0|\n",
      "+--------------------+--------+----------------+--------------------+----------+\n",
      "only showing top 10 rows\n",
      "\n"
     ]
    }
   ],
   "source": [
    "# Prediction using test data\n",
    "predictions = model.transform(test_data)\n",
    "predictions.show(10)"
   ]
  },
  {
   "cell_type": "code",
   "execution_count": 211,
   "metadata": {},
   "outputs": [
    {
     "name": "stdout",
     "output_type": "stream",
     "text": [
      "+--------------------+--------+----------+\n",
      "|            features|diabetes|prediction|\n",
      "+--------------------+--------+----------+\n",
      "|(8,[0,1,2,7],[1.0...|       0|       0.0|\n",
      "|(8,[0,2,3,4],[1.0...|       0|       0.0|\n",
      "|(8,[0,2,3,4],[1.0...|       1|       0.0|\n",
      "|(8,[0,2,3,6],[1.0...|       1|       0.0|\n",
      "|(8,[0,2,4],[1.0,8...|       0|       0.0|\n",
      "|(8,[0,2,4],[1.0,1...|       1|       0.0|\n",
      "|(8,[0,2,4,5],[1.0...|       0|       0.0|\n",
      "|(8,[0,2,4,5],[1.0...|       1|       0.0|\n",
      "|(8,[0,2,4,6],[1.0...|       0|       0.0|\n",
      "|(8,[0,2,4,6],[1.0...|       0|       0.0|\n",
      "|(8,[0,2,4,6],[1.0...|       0|       0.0|\n",
      "|(8,[0,2,4,6],[1.0...|       0|       0.0|\n",
      "|(8,[0,2,4,6],[1.0...|       0|       0.0|\n",
      "|(8,[0,2,4,6],[1.0...|       0|       0.0|\n",
      "|(8,[0,2,4,6],[1.0...|       0|       0.0|\n",
      "|(8,[0,2,4,6],[1.0...|       0|       0.0|\n",
      "|(8,[0,2,4,6],[1.0...|       1|       0.0|\n",
      "|(8,[0,2,4,7],[1.0...|       0|       0.0|\n",
      "|(8,[0,2,4,7],[1.0...|       0|       0.0|\n",
      "|(8,[0,2,4,7],[1.0...|       0|       0.0|\n",
      "+--------------------+--------+----------+\n",
      "only showing top 20 rows\n",
      "\n"
     ]
    }
   ],
   "source": [
    "predictions.select('features', 'diabetes', 'prediction').show()"
   ]
  },
  {
   "cell_type": "markdown",
   "metadata": {
    "application/vnd.databricks.v1+cell": {
     "cellMetadata": {},
     "inputWidgets": {},
     "nuid": "914291be-8fd7-4b79-96b5-99623a53aa35",
     "showTitle": false,
     "title": ""
    }
   },
   "source": [
    "### ML Model Evaluation"
   ]
  },
  {
   "cell_type": "code",
   "execution_count": 212,
   "metadata": {},
   "outputs": [
    {
     "name": "stdout",
     "output_type": "stream",
     "text": [
      "Akurasi: 0.9496414175783908\n"
     ]
    }
   ],
   "source": [
    "# Accuracy \n",
    "\n",
    "evaluator = MulticlassClassificationEvaluator(labelCol='diabetes', predictionCol='prediction', metricName='accuracy')\n",
    "accuracy = evaluator.evaluate(predictions)\n",
    "print(f\"Akurasi: {accuracy}\")\n"
   ]
  },
  {
   "cell_type": "code",
   "execution_count": 213,
   "metadata": {
    "application/vnd.databricks.v1+cell": {
     "cellMetadata": {
      "byteLimit": 2048000,
      "rowLimit": 10000
     },
     "inputWidgets": {},
     "nuid": "a16b6977-a9eb-4682-bda0-bc90a74658ec",
     "showTitle": false,
     "title": ""
    }
   },
   "outputs": [
    {
     "name": "stdout",
     "output_type": "stream",
     "text": [
      "Precision: 0.947802495930548\n",
      "Recall: 1.0\n",
      "F1 Score: 0.9398211681473817\n"
     ]
    }
   ],
   "source": [
    "\n",
    "# Precision\n",
    "evaluator_precision = MulticlassClassificationEvaluator(\n",
    "    labelCol='diabetes', predictionCol='prediction', metricName='precisionByLabel')\n",
    "\n",
    "precision = evaluator_precision.evaluate(predictions)\n",
    "print(f\"Precision: {precision}\")\n",
    "\n",
    "# Recall\n",
    "evaluator_recall = MulticlassClassificationEvaluator(\n",
    "    labelCol='diabetes', predictionCol='prediction', metricName='recallByLabel')\n",
    "\n",
    "recall = evaluator_recall.evaluate(predictions)\n",
    "print(f\"Recall: {recall}\")\n",
    "\n",
    "# F1 Score\n",
    "evaluator_f1 = MulticlassClassificationEvaluator(\n",
    "    labelCol='diabetes', predictionCol='prediction', metricName='f1')\n",
    "\n",
    "f1_score = evaluator_f1.evaluate(predictions)\n",
    "print(f\"F1 Score: {f1_score}\")\n"
   ]
  },
  {
   "cell_type": "markdown",
   "metadata": {},
   "source": [
    "## Random Forest Model"
   ]
  },
  {
   "cell_type": "markdown",
   "metadata": {},
   "source": [
    "### ML Model Engineering\n"
   ]
  },
  {
   "cell_type": "code",
   "execution_count": 214,
   "metadata": {},
   "outputs": [],
   "source": [
    "# Initialize model Decision Tree\n",
    "rf = RandomForestClassifier(featuresCol='features', labelCol='diabetes', maxBins=5000)\n",
    "\n",
    "# Train dt model\n",
    "model_rf = rf.fit(train_data)"
   ]
  },
  {
   "cell_type": "code",
   "execution_count": 215,
   "metadata": {},
   "outputs": [
    {
     "name": "stdout",
     "output_type": "stream",
     "text": [
      "+--------------------+--------+--------------------+--------------------+----------+\n",
      "|            features|diabetes|       rawPrediction|         probability|prediction|\n",
      "+--------------------+--------+--------------------+--------------------+----------+\n",
      "|(8,[0,1,2,7],[1.0...|       0|[15.2111263644680...|[0.76055631822340...|       0.0|\n",
      "|(8,[0,2,3,4],[1.0...|       0|[16.9957549582276...|[0.84978774791138...|       0.0|\n",
      "|(8,[0,2,3,4],[1.0...|       1|[16.8574973824701...|[0.84287486912350...|       0.0|\n",
      "|(8,[0,2,3,6],[1.0...|       1|[16.2454528208412...|[0.81227264104206...|       0.0|\n",
      "|(8,[0,2,4],[1.0,8...|       0|[17.9503665870200...|[0.89751832935100...|       0.0|\n",
      "|(8,[0,2,4],[1.0,1...|       1|[17.1235425348697...|[0.85617712674348...|       0.0|\n",
      "|(8,[0,2,4,5],[1.0...|       0|[16.9957549582276...|[0.84978774791138...|       0.0|\n",
      "|(8,[0,2,4,5],[1.0...|       1|[16.8574973824701...|[0.84287486912350...|       0.0|\n",
      "|(8,[0,2,4,6],[1.0...|       0|[17.8507219761459...|[0.89253609880729...|       0.0|\n",
      "|(8,[0,2,4,6],[1.0...|       0|[17.3203497769090...|[0.86601748884545...|       0.0|\n",
      "+--------------------+--------+--------------------+--------------------+----------+\n",
      "only showing top 10 rows\n",
      "\n"
     ]
    }
   ],
   "source": [
    "# Prediction using test data\n",
    "predictions_rf = model_rf.transform(test_data)\n",
    "predictions_rf.show(10)"
   ]
  },
  {
   "cell_type": "code",
   "execution_count": 216,
   "metadata": {},
   "outputs": [
    {
     "name": "stdout",
     "output_type": "stream",
     "text": [
      "+--------------------+--------+----------+\n",
      "|            features|diabetes|prediction|\n",
      "+--------------------+--------+----------+\n",
      "|(8,[0,1,2,7],[1.0...|       0|       0.0|\n",
      "|(8,[0,2,3,4],[1.0...|       0|       0.0|\n",
      "|(8,[0,2,3,4],[1.0...|       1|       0.0|\n",
      "|(8,[0,2,3,6],[1.0...|       1|       0.0|\n",
      "|(8,[0,2,4],[1.0,8...|       0|       0.0|\n",
      "|(8,[0,2,4],[1.0,1...|       1|       0.0|\n",
      "|(8,[0,2,4,5],[1.0...|       0|       0.0|\n",
      "|(8,[0,2,4,5],[1.0...|       1|       0.0|\n",
      "|(8,[0,2,4,6],[1.0...|       0|       0.0|\n",
      "|(8,[0,2,4,6],[1.0...|       0|       0.0|\n",
      "|(8,[0,2,4,6],[1.0...|       0|       0.0|\n",
      "|(8,[0,2,4,6],[1.0...|       0|       0.0|\n",
      "|(8,[0,2,4,6],[1.0...|       0|       0.0|\n",
      "|(8,[0,2,4,6],[1.0...|       0|       0.0|\n",
      "|(8,[0,2,4,6],[1.0...|       0|       0.0|\n",
      "|(8,[0,2,4,6],[1.0...|       0|       0.0|\n",
      "|(8,[0,2,4,6],[1.0...|       1|       0.0|\n",
      "|(8,[0,2,4,7],[1.0...|       0|       0.0|\n",
      "|(8,[0,2,4,7],[1.0...|       0|       0.0|\n",
      "|(8,[0,2,4,7],[1.0...|       0|       0.0|\n",
      "+--------------------+--------+----------+\n",
      "only showing top 20 rows\n",
      "\n"
     ]
    }
   ],
   "source": [
    "predictions_rf.select('features', 'diabetes', 'prediction').show()"
   ]
  },
  {
   "cell_type": "markdown",
   "metadata": {},
   "source": [
    "### ML Model Evaluation"
   ]
  },
  {
   "cell_type": "code",
   "execution_count": 217,
   "metadata": {},
   "outputs": [
    {
     "name": "stdout",
     "output_type": "stream",
     "text": [
      "Akurasi: 0.9479662880175889\n",
      "Precision: 0.9461596793413498\n",
      "Recall: 1.0\n",
      "F1 Score: 0.9373236715173976\n"
     ]
    }
   ],
   "source": [
    "# Accuracy \n",
    "evaluator_rf = MulticlassClassificationEvaluator(labelCol='diabetes', predictionCol='prediction', metricName='accuracy')\n",
    "accuracy_rf = evaluator_rf.evaluate(predictions_rf)\n",
    "print(f\"Akurasi: {accuracy_rf}\")\n",
    "\n",
    "\n",
    "# Precision\n",
    "evaluator_precision_rf = MulticlassClassificationEvaluator(\n",
    "    labelCol='diabetes', predictionCol='prediction', metricName='precisionByLabel')\n",
    "\n",
    "precision_rf = evaluator_precision_rf.evaluate(predictions_rf)\n",
    "print(f\"Precision: {precision_rf}\")\n",
    "\n",
    "# Recall\n",
    "evaluator_recall = MulticlassClassificationEvaluator(\n",
    "    labelCol='diabetes', predictionCol='prediction', metricName='recallByLabel')\n",
    "\n",
    "recall_rf = evaluator_recall.evaluate(predictions_rf)\n",
    "print(f\"Recall: {recall_rf}\")\n",
    "\n",
    "# F1 Score\n",
    "evaluator_f1 = MulticlassClassificationEvaluator(\n",
    "    labelCol='diabetes', predictionCol='prediction', metricName='f1')\n",
    "\n",
    "f1_score_rf = evaluator_f1.evaluate(predictions_rf)\n",
    "print(f\"F1 Score: {f1_score_rf}\")"
   ]
  },
  {
   "cell_type": "markdown",
   "metadata": {},
   "source": [
    "## Summary"
   ]
  },
  {
   "cell_type": "code",
   "execution_count": 218,
   "metadata": {},
   "outputs": [
    {
     "name": "stdout",
     "output_type": "stream",
     "text": [
      "Decision Tree\n",
      "Accuracy: 0.949641\n",
      "Precision: 0.947802\n",
      "Recall: 1.000000\n",
      "f1_score: 0.939821\n",
      "\n",
      "Random Forest\n",
      "Accuracy: 0.947966\n",
      "Precision: 0.946160\n",
      "Recall: 1.000000\n",
      "f1_score: 0.937324\n"
     ]
    }
   ],
   "source": [
    "print(\"Decision Tree\")\n",
    "print(\"Accuracy: %f\" % accuracy)\n",
    "print(\"Precision: %f\" % precision)\n",
    "print(\"Recall: %f\" % recall)\n",
    "print(\"f1_score: %f\" % f1_score)\n",
    "print(\"\")\n",
    "print(\"Random Forest\")\n",
    "print(\"Accuracy: %f\" % accuracy_rf)\n",
    "print(\"Precision: %f\" % precision_rf)\n",
    "print(\"Recall: %f\" % recall_rf)\n",
    "print(\"f1_score: %f\" % f1_score_rf)"
   ]
  },
  {
   "cell_type": "markdown",
   "metadata": {},
   "source": [
    "# Spark Off"
   ]
  },
  {
   "cell_type": "code",
   "execution_count": 219,
   "metadata": {},
   "outputs": [],
   "source": [
    "spark.stop()"
   ]
  }
 ],
 "metadata": {
  "application/vnd.databricks.v1+notebook": {
   "dashboards": [],
   "language": "python",
   "notebookMetadata": {
    "pythonIndentUnit": 4
   },
   "notebookName": "Classification Decision Tree_Remedy Exam",
   "widgets": {}
  },
  "kernelspec": {
   "display_name": "base",
   "language": "python",
   "name": "python3"
  },
  "language_info": {
   "codemirror_mode": {
    "name": "ipython",
    "version": 3
   },
   "file_extension": ".py",
   "mimetype": "text/x-python",
   "name": "python",
   "nbconvert_exporter": "python",
   "pygments_lexer": "ipython3",
   "version": "3.11.3"
  }
 },
 "nbformat": 4,
 "nbformat_minor": 0
}
